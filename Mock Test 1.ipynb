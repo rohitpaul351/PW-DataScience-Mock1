{
 "cells": [
  {
   "cell_type": "markdown",
   "id": "e49f7525",
   "metadata": {},
   "source": [
    "# Question 17"
   ]
  },
  {
   "cell_type": "code",
   "execution_count": 1,
   "id": "b7a7087a",
   "metadata": {},
   "outputs": [
    {
     "name": "stdout",
     "output_type": "stream",
     "text": [
      "Enter a list of numbers, separated by spaces: 1 2 3 4 5 6 7 8 9 10\n"
     ]
    },
    {
     "data": {
      "text/plain": [
       "[2, 4, 6, 8, 10]"
      ]
     },
     "execution_count": 1,
     "metadata": {},
     "output_type": "execute_result"
    }
   ],
   "source": [
    "def get_even_numbers():\n",
    "    numbers = input(\"Enter a list of numbers, separated by spaces: \").split()\n",
    "    numbers = [int(num) for num in numbers]\n",
    "    return [num for num in numbers if num % 2 == 0]\n",
    "\n",
    "get_even_numbers()"
   ]
  },
  {
   "cell_type": "markdown",
   "id": "c06189bc",
   "metadata": {},
   "source": [
    "# Question 18"
   ]
  },
  {
   "cell_type": "code",
   "execution_count": 2,
   "id": "8cbed058",
   "metadata": {},
   "outputs": [
    {
     "name": "stdout",
     "output_type": "stream",
     "text": [
      "Execution time: 2.0050642490386963 seconds\n"
     ]
    }
   ],
   "source": [
    "import time\n",
    "\n",
    "def timer(func):\n",
    "    def wrapper(*args, **kwargs):\n",
    "        start_time = time.time()\n",
    "        result = func(*args, **kwargs)\n",
    "        end_time = time.time()\n",
    "        execution_time = end_time - start_time\n",
    "        print(f\"Execution time: {execution_time} seconds\")\n",
    "        return result\n",
    "    return wrapper\n",
    "\n",
    "@timer\n",
    "def my_function():\n",
    "    # Function code goes here\n",
    "    time.sleep(2)\n",
    "\n",
    "my_function()"
   ]
  },
  {
   "cell_type": "markdown",
   "id": "7db2a228",
   "metadata": {},
   "source": [
    "# Question 19"
   ]
  },
  {
   "cell_type": "code",
   "execution_count": 3,
   "id": "750256de",
   "metadata": {},
   "outputs": [
    {
     "name": "stdout",
     "output_type": "stream",
     "text": [
      "Enter a list of numbers, separated by spaces: 1 2 3 4 5 6 7 8 9 10\n",
      "Mean: 5.5\n"
     ]
    }
   ],
   "source": [
    "def calculate_mean():\n",
    "    numbers = input(\"Enter a list of numbers, separated by spaces: \").split()\n",
    "    numbers = [float(num) for num in numbers]\n",
    "    total_sum = sum(numbers)\n",
    "    count = len(numbers)\n",
    "    if count == 0:\n",
    "        return 0  # Avoid division by zero error\n",
    "    mean = total_sum / count\n",
    "    return mean\n",
    "\n",
    "mean = calculate_mean()\n",
    "print(\"Mean:\",mean)"
   ]
  },
  {
   "cell_type": "markdown",
   "id": "5468d6c8",
   "metadata": {},
   "source": [
    "# Question 20"
   ]
  },
  {
   "cell_type": "code",
   "execution_count": 4,
   "id": "bc9adfb1",
   "metadata": {},
   "outputs": [
    {
     "name": "stdout",
     "output_type": "stream",
     "text": [
      "Enter the first sample numbers, separated by spaces: 5 10 15 20 25\n",
      "Enter the second sample numbers, separated by spaces: 10 20 30 40 50\n",
      "P Value: 0.09434977284243756\n"
     ]
    }
   ],
   "source": [
    "from scipy import stats\n",
    "\n",
    "def perform_hypothesis_test():\n",
    "    sample1 = input(\"Enter the first sample numbers, separated by spaces: \").split()\n",
    "    sample1 = [float(num) for num in sample1]\n",
    "    \n",
    "    sample2 = input(\"Enter the second sample numbers, separated by spaces: \").split()\n",
    "    sample2 = [float(num) for num in sample2]\n",
    "    \n",
    "    t_statistic, p_value = stats.ttest_ind(sample1, sample2)\n",
    "    return p_value\n",
    "\n",
    "p_value = perform_hypothesis_test()\n",
    "print(\"P Value:\",p_value)"
   ]
  },
  {
   "cell_type": "code",
   "execution_count": null,
   "id": "e633bc72",
   "metadata": {},
   "outputs": [],
   "source": []
  }
 ],
 "metadata": {
  "kernelspec": {
   "display_name": "Python 3 (ipykernel)",
   "language": "python",
   "name": "python3"
  },
  "language_info": {
   "codemirror_mode": {
    "name": "ipython",
    "version": 3
   },
   "file_extension": ".py",
   "mimetype": "text/x-python",
   "name": "python",
   "nbconvert_exporter": "python",
   "pygments_lexer": "ipython3",
   "version": "3.9.13"
  }
 },
 "nbformat": 4,
 "nbformat_minor": 5
}
